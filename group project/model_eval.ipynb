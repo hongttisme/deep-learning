{
 "cells": [
  {
   "metadata": {
    "ExecuteTime": {
     "end_time": "2024-11-28T02:30:25.043206Z",
     "start_time": "2024-11-28T02:30:24.964034Z"
    }
   },
   "cell_type": "code",
   "source": "import numpy as np",
   "id": "f55c310979c8cf53",
   "outputs": [],
   "execution_count": 2
  },
  {
   "metadata": {
    "ExecuteTime": {
     "end_time": "2024-11-28T02:30:25.050475Z",
     "start_time": "2024-11-28T02:30:25.044226Z"
    }
   },
   "cell_type": "code",
   "source": [
    "def calculate_iou(box1, box2):\n",
    "    new_box1 = [box1[0], box1[1], box1[0] + box1[2], box1[1] + box1[3]]\n",
    "    new_box2 = [box2[0], box2[1], box2[0] + box2[2], box2[1] + box2[3]]\n",
    "    \n",
    "    x1 = max(new_box1[0], new_box2[0])\n",
    "    y1 = max(new_box1[1], new_box2[1])\n",
    "    x2 = min(new_box1[2], new_box2[2])\n",
    "    y2 = min(new_box1[3], new_box2[3])\n",
    "\n",
    "    intersection_area = max(0, x2 - x1) * max(0, y2 - y1)\n",
    "\n",
    "    box1_area = (new_box1[2] - new_box1[0]) * (new_box1[3] - new_box1[1])\n",
    "    box2_area = (new_box2[2] - new_box2[0]) * (new_box2[3] - new_box2[1])\n",
    "\n",
    "    union_area = box1_area + box2_area - intersection_area\n",
    "\n",
    "    if union_area == 0:\n",
    "        return 0  \n",
    "    iou = intersection_area / union_area\n",
    "    return iou\n",
    "    "
   ],
   "id": "initial_id",
   "outputs": [],
   "execution_count": 3
  },
  {
   "metadata": {
    "ExecuteTime": {
     "end_time": "2024-11-28T02:30:25.056322Z",
     "start_time": "2024-11-28T02:30:25.051486Z"
    }
   },
   "cell_type": "code",
   "source": [
    "def precision_recall(labels, predictions, iou_threshold=0.5):\n",
    "    matched_labels = set()\n",
    "    true_positives = 0\n",
    "    \n",
    "    for pred in predictions:\n",
    "        for i, label in enumerate(labels):\n",
    "            iou = calculate_iou(pred, label)\n",
    "            if iou >= iou_threshold and i not in matched_labels:\n",
    "                true_positives += 1\n",
    "                matched_labels.add(i)\n",
    "                break\n",
    "\n",
    "    false_positives = len(predictions) - true_positives\n",
    "    false_negatives = len(labels) - len(matched_labels)\n",
    "    \n",
    "    precision = true_positives / (true_positives + false_positives) if predictions else 0\n",
    "    recall = true_positives / (true_positives + false_negatives) if labels else 0\n",
    "    \n",
    "    return precision, recall\n",
    "    "
   ],
   "id": "e7fca56901897bdd",
   "outputs": [],
   "execution_count": 4
  },
  {
   "metadata": {
    "ExecuteTime": {
     "end_time": "2024-11-28T02:30:25.060726Z",
     "start_time": "2024-11-28T02:30:25.057332Z"
    }
   },
   "cell_type": "code",
   "source": [
    "def calculate_f1(precision, recall):\n",
    "    return 2 * (precision * recall) / (precision + recall) if precision + recall else 0"
   ],
   "id": "eef24f32a7a3bec1",
   "outputs": [],
   "execution_count": 5
  },
  {
   "metadata": {
    "ExecuteTime": {
     "end_time": "2024-11-28T02:30:25.066422Z",
     "start_time": "2024-11-28T02:30:25.062737Z"
    }
   },
   "cell_type": "code",
   "source": [
    "def calculate_average_precision(precisions, recalls):\n",
    "    recalls = np.concatenate([[0], recalls, [1]])\n",
    "    precisions = np.concatenate([[0], precisions, [0]])\n",
    "\n",
    "    for i in range(len(precisions) - 2, -1, -1):\n",
    "        precisions[i] = max(precisions[i], precisions[i + 1])\n",
    "\n",
    "    indices = np.where(recalls[1:] != recalls[:-1])[0]\n",
    "    ap = np.sum((recalls[indices + 1] - recalls[indices]) * precisions[indices + 1])\n",
    "    return ap"
   ],
   "id": "91a2e986a7b66cff",
   "outputs": [],
   "execution_count": 6
  },
  {
   "metadata": {
    "ExecuteTime": {
     "end_time": "2024-11-28T02:54:31.406462Z",
     "start_time": "2024-11-28T02:54:31.400536Z"
    }
   },
   "cell_type": "code",
   "source": [
    "step = 1000\n",
    "precisions = []\n",
    "recalls = []\n",
    "\n",
    "\n",
    "labels = np.array([])\n",
    "predictions = np.array([])\n",
    "\n",
    "# for i in range(1, step):\n",
    "#     confident = 100/step * i     # must start with low confident first\n",
    "#     predictions_i = predictions >= confident\n",
    "#     precision, recall = precision_recall(labels, predictions_i)\n",
    "#     precisions.append(precision)\n",
    "#     recalls.append(recall)\n",
    "    \n",
    "# testing\n",
    "recalls = [i/1000 for i in range(1, 1000)]\n",
    "precisions = [(1 - (i/1000)**2)**0.5 for i in range(1, 1000)]\n",
    "ap = calculate_average_precision(precisions, recalls)\n",
    "print(4* ap) # calculate pi XD\n",
    "\n",
    "    \n",
    "    \n",
    "    \n",
    "    "
   ],
   "id": "8f72a8db667588d",
   "outputs": [
    {
     "name": "stdout",
     "output_type": "stream",
     "text": [
      "3.1395554669110277\n"
     ]
    }
   ],
   "execution_count": 17
  },
  {
   "metadata": {},
   "cell_type": "markdown",
   "source": [
    "# all metric you can write:\n",
    "## precision, recall, F1, AP, mAP (mean of all AP in different category)\n"
   ],
   "id": "73f4b90a827a6220"
  }
 ],
 "metadata": {
  "kernelspec": {
   "display_name": "Python 3",
   "language": "python",
   "name": "python3"
  },
  "language_info": {
   "codemirror_mode": {
    "name": "ipython",
    "version": 2
   },
   "file_extension": ".py",
   "mimetype": "text/x-python",
   "name": "python",
   "nbconvert_exporter": "python",
   "pygments_lexer": "ipython2",
   "version": "2.7.6"
  }
 },
 "nbformat": 4,
 "nbformat_minor": 5
}
