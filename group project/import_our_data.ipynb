{
 "cells": [
  {
   "metadata": {
    "ExecuteTime": {
     "end_time": "2024-11-30T13:50:18.842059Z",
     "start_time": "2024-11-30T13:50:18.384982Z"
    }
   },
   "cell_type": "code",
   "source": [
    "import pandas as pd\n",
    "\n",
    "\n",
    "df = pd.read_csv('image label - Sheet1.csv')\n"
   ],
   "id": "initial_id",
   "outputs": [],
   "execution_count": 1
  },
  {
   "metadata": {
    "ExecuteTime": {
     "end_time": "2024-11-30T13:50:18.850013Z",
     "start_time": "2024-11-30T13:50:18.846069Z"
    }
   },
   "cell_type": "code",
   "source": [
    "image_labels = dict()\n",
    "\n",
    "for i in range(1,101):\n",
    "    temp = {\n",
    "        \"bboxs\":[], \n",
    "        \"categories\": []\n",
    "    }\n",
    "    image_labels[f\"{i:03}.jpg\"] = temp\n",
    "    \n"
   ],
   "id": "df61306978764420",
   "outputs": [],
   "execution_count": 2
  },
  {
   "metadata": {
    "ExecuteTime": {
     "end_time": "2024-11-30T13:50:18.856232Z",
     "start_time": "2024-11-30T13:50:18.851021Z"
    }
   },
   "cell_type": "code",
   "source": [
    "for i, key in enumerate(df.keys()):\n",
    "    print(i,':', key )"
   ],
   "id": "8c761f29300f7b5e",
   "outputs": [
    {
     "name": "stdout",
     "output_type": "stream",
     "text": [
      "0 : 照片 ID ( xxx.jpg)\n",
      "1 : Category ID (1-90)\n",
      "2 : 左上(x)\n",
      "3 : 左上（y)\n",
      "4 : 右下(x)\n",
      "5 : 右下（y)\n"
     ]
    }
   ],
   "execution_count": 3
  },
  {
   "metadata": {
    "ExecuteTime": {
     "end_time": "2024-11-30T13:50:18.872778Z",
     "start_time": "2024-11-30T13:50:18.857237Z"
    }
   },
   "cell_type": "code",
   "source": [
    "for index, row in df.iterrows():\n",
    "    \n",
    "    image_name = row[row.keys()[0]]\n",
    "    the_category = row[row.keys()[1]]\n",
    "    \n",
    "    x1 = int(row[df.keys()[2]])\n",
    "    y1 = int(row[df.keys()[3]])\n",
    "    x2 = int(row[df.keys()[4]])\n",
    "    y2 = int(row[df.keys()[5]])\n",
    "    w = x2 - x1\n",
    "    h = y2 - y1\n",
    "    \n",
    "    bbox = [x1,y1,w,h]\n",
    "    image_labels[image_name]['bboxs'].append(bbox)\n",
    "    image_labels[image_name]['categories'].append(the_category)\n"
   ],
   "id": "e97dd73ca6baca06",
   "outputs": [],
   "execution_count": 4
  },
  {
   "metadata": {
    "ExecuteTime": {
     "end_time": "2024-11-30T13:50:18.877127Z",
     "start_time": "2024-11-30T13:50:18.873785Z"
    }
   },
   "cell_type": "code",
   "source": "import json",
   "id": "555938893cd32263",
   "outputs": [],
   "execution_count": 5
  },
  {
   "metadata": {
    "ExecuteTime": {
     "end_time": "2024-11-30T13:50:18.884856Z",
     "start_time": "2024-11-30T13:50:18.879136Z"
    }
   },
   "cell_type": "code",
   "source": [
    "# data['81'][\"annotations\"] {'bbox': [273, 38, 233, 295], 'category_id': 1, 'category_name': 'person'}\n",
    "\n",
    "with open('81-100 labels.json', 'r') as infile:\n",
    "    data = json.load(infile)\n",
    "    \n",
    "for x in range(81, 101):\n",
    "    for label in data[f\"{x}\"][\"annotations\"]:\n",
    "            \n",
    "        image_name = f\"{x:03}.jpg\"\n",
    "        the_category = label[\"category_id\"]\n",
    "        bbox = label[\"bbox\"]\n",
    "        image_labels[image_name]['bboxs'].append(bbox)\n",
    "        image_labels[image_name]['categories'].append(the_category)\n",
    "        \n",
    "    "
   ],
   "id": "a0e364c4eb54e795",
   "outputs": [],
   "execution_count": 6
  },
  {
   "metadata": {
    "ExecuteTime": {
     "end_time": "2024-11-30T13:50:19.540802Z",
     "start_time": "2024-11-30T13:50:18.885868Z"
    }
   },
   "cell_type": "code",
   "source": [
    "\n",
    "import cv2\n",
    "\n",
    "df = pd.read_csv('test.csv')\n",
    "\n",
    "for index, row in df.iterrows():\n",
    "    image_name = f\"0{row[row.keys()[0]]}\"\n",
    "    img = cv2.imread(\"our_image\\\\\" + image_name)\n",
    "\n",
    "    the_category = row[row.keys()[1]]\n",
    "    \n",
    "    x1 = int(row[df.keys()[2]] / 100 * img.shape[1])\n",
    "    y1 = int(row[df.keys()[3]] / 100 * img.shape[0])\n",
    "    x2 = int(row[df.keys()[4]] / 100 * img.shape[1])\n",
    "    y2 = int(row[df.keys()[5]] / 100 * img.shape[0])\n",
    "    w = x2 - x1\n",
    "    h = y2 - y1\n",
    "    \n",
    "    bbox = [x1,y1,w,h]\n",
    "    image_labels[image_name]['bboxs'].append(bbox)\n",
    "    image_labels[image_name]['categories'].append(the_category)"
   ],
   "id": "7fcd2e78b138949f",
   "outputs": [],
   "execution_count": 7
  },
  {
   "metadata": {
    "ExecuteTime": {
     "end_time": "2024-11-30T13:50:19.545648Z",
     "start_time": "2024-11-30T13:50:19.541811Z"
    }
   },
   "cell_type": "code",
   "source": [
    "for key, labels in image_labels.items():\n",
    "    print(key, labels)"
   ],
   "id": "4eb14a4fe08bb781",
   "outputs": [
    {
     "name": "stdout",
     "output_type": "stream",
     "text": [
      "001.jpg {'bboxs': [[43, 251, 539, 222], [37, 324, 303, 187]], 'categories': [3, 2]}\n",
      "002.jpg {'bboxs': [[153, 185, 276, 673]], 'categories': [31]}\n",
      "003.jpg {'bboxs': [[156, 298, 290, 491]], 'categories': [85]}\n",
      "004.jpg {'bboxs': [[69, 450, 82, 310], [150, 368, 324, 269], [452, 436, 87, 327]], 'categories': [48, 51, 50]}\n",
      "005.jpg {'bboxs': [[96, 185, 549, 319]], 'categories': [72]}\n",
      "006.jpg {'bboxs': [[0, 475, 246, 179], [394, 563, 211, 338]], 'categories': [81, 70]}\n",
      "007.jpg {'bboxs': [[227, 379, 324, 369]], 'categories': [89]}\n",
      "008.jpg {'bboxs': [[132, 145, 359, 724], [486, 275, 75, 71], [482, 370, 118, 192]], 'categories': [82, 78, 79]}\n",
      "009.jpg {'bboxs': [[0, 269, 608, 655]], 'categories': [65]}\n",
      "010.jpg {'bboxs': [[238, 481, 326, 227]], 'categories': [9]}\n",
      "011.jpg {'bboxs': [[222, 94, 518, 354], [233, 372, 543, 291]], 'categories': [33, 33]}\n",
      "012.jpg {'bboxs': [[164, 37, 472, 546], [343, 487, 368, 270], [642, 459, 105, 83], [64, 462, 234, 354]], 'categories': [73, 76, 74, 89]}\n",
      "013.jpg {'bboxs': [[12, 143, 359, 597]], 'categories': [17]}\n",
      "014.jpg {'bboxs': [[214, 272, 464, 849], [0, 544, 447, 704]], 'categories': [1, 18]}\n",
      "015.jpg {'bboxs': [[72, 271, 750, 535], [399, 683, 561, 240]], 'categories': [47, 50]}\n",
      "016.jpg {'bboxs': [[0, 83, 128, 276], [0, 298, 810, 574]], 'categories': [47, 59]}\n",
      "017.jpg {'bboxs': [[134, 293, 349, 376], [631, 109, 235, 480]], 'categories': [61, 47]}\n",
      "018.jpg {'bboxs': [[182, 272, 448, 907], [215, 914, 557, 265], [456, 949, 60, 60]], 'categories': [1, 43, 37]}\n",
      "019.jpg {'bboxs': [[260, 26, 550, 969], [0, 371, 355, 624]], 'categories': [1, 88]}\n",
      "020.jpg {'bboxs': [[69, 5, 229, 472], [110, 36, 198, 112], [49, 75, 62, 54], [8, 64, 90, 54]], 'categories': [1, 8, 3, 3]}\n",
      "021.jpg {'bboxs': [[347, 588, 145, 471], [398, 422, 72, 59], [295, 92, 110, 209], [344, 721, 78, 103], [290, 545, 254, 205], [253, 794, 112, 62]], 'categories': [1, 10, 10, 27, 28, 67]}\n",
      "022.jpg {'bboxs': [[249, 782, 49, 192], [296, 781, 120, 167], [377, 782, 94, 182], [445, 744, 100, 205], [48, 803, 89, 133], [140, 880, 98, 115], [163, 847, 98, 140], [455, 829, 52, 113], [526, 878, 58, 61], [0, 963, 140, 117], [185, 877, 103, 124], [296, 866, 105, 115], [471, 855, 92, 108], [0, 849, 90, 231]], 'categories': [1, 1, 1, 1, 1, 28, 62, 62, 62, 67, 67, 67, 67, 88]}\n",
      "023.jpg {'bboxs': [[434, 289, 283, 202], [34, 501, 97, 508], [54, 496, 126, 527], [120, 642, 131, 167], [185, 680, 118, 180]], 'categories': [47, 48, 49, 58, 58]}\n",
      "024.jpg {'bboxs': [[193, 0, 177, 287], [239, 299, 117, 121], [353, 288, 103, 142]], 'categories': [46, 61, 61]}\n",
      "025.jpg {'bboxs': [[603, 556, 33, 13], [578, 501, 76, 533], [653, 539, 91, 99], [734, 553, 301, 73]], 'categories': [1, 9, 9, 9]}\n",
      "026.jpg {'bboxs': [[194, 313, 354, 316], [209, 773, 226, 221]], 'categories': [79, 62]}\n",
      "027.jpg {'bboxs': [[81, 394, 83, 188], [136, 382, 160, 192], [240, 434, 19, 12], [506, 400, 170, 170], [638, 371, 244, 207], [392, 69, 226, 539]], 'categories': [24, 24, 24, 24, 24, 25]}\n",
      "028.jpg {'bboxs': [[558, 715, 36, 32], [612, 745, 29, 35], [518, 882, 185, 198], [302, 727, 508, 350], [421, 486, 118, 97], [417, 581, 125, 116], [41, 610, 115, 155], [631, 442, 179, 332]], 'categories': [53, 53, 62, 67, 78, 79, 81, 82]}\n",
      "029.jpg {'bboxs': [[391, 53, 208, 247], [489, 408, 72, 55], [310, 441, 211, 180], [251, 599, 104, 84]], 'categories': [73, 74, 76, 77]}\n",
      "030.jpg {'bboxs': [[302, 258, 430, 411], [167, 619, 301, 311]], 'categories': [17, 61]}\n",
      "031.jpg {'bboxs': [[125, 246, 457, 685]], 'categories': [82]}\n",
      "032.jpg {'bboxs': [[180, 107, 310, 696]], 'categories': [11]}\n",
      "033.jpg {'bboxs': [], 'categories': []}\n",
      "034.jpg {'bboxs': [[141, 382, 485, 478]], 'categories': [15]}\n",
      "035.jpg {'bboxs': [[82, 13, 523, 967], [115, 191, 288, 18]], 'categories': [18, 34]}\n",
      "036.jpg {'bboxs': [[0, 104, 595, 611]], 'categories': [7]}\n",
      "037.jpg {'bboxs': [[129, 311, 299, 451], [355, 85, 151, 356]], 'categories': [47, 90]}\n",
      "038.jpg {'bboxs': [[0, 58, 421, 412]], 'categories': [59]}\n",
      "039.jpg {'bboxs': [[99, 183, 629, 50]], 'categories': [89]}\n",
      "040.jpg {'bboxs': [[203, 0, 490, 327], [206, 178, 269, 309]], 'categories': [64, 85]}\n",
      "041.jpg {'bboxs': [[14, 0, 129, 98], [150, 125, 188, 20]], 'categories': [44, 54]}\n",
      "042.jpg {'bboxs': [[208, 389, 460, 336]], 'categories': [51]}\n",
      "043.jpg {'bboxs': [[247, 14, 144, 211], [111, 427, 88, 126], [167, 410, 98, 201], [220, 398, 217, 144], [285, 427, 103, 74], [369, 436, 50, 48], [259, 414, 139, 71]], 'categories': [89, 47, 44, 51, 47, 50, 48]}\n",
      "044.jpg {'bboxs': [[221, 17, 269, 123]], 'categories': [75]}\n",
      "045.jpg {'bboxs': [[0, 840, 662, 685], [958, 112, 301, 871]], 'categories': [49, 48]}\n",
      "046.jpg {'bboxs': [[53, 272, 406, 280], [48, 37, 254, 602]], 'categories': [36, 1]}\n",
      "047.jpg {'bboxs': [[169, 632, 279, 222], [429, 69, 249, 196], [1082, 87, 308, 86]], 'categories': [50, 50, 50]}\n",
      "048.jpg {'bboxs': [], 'categories': []}\n",
      "049.jpg {'bboxs': [[207, 474, 365, 229], [626, 551, 454, 452], [572, 578, 55, 47], [0, 816, 256, 618], [513, 1184, 234, 250], [220, 848, 141, 185], [870, 1050, 56, 166], [819, 1140, -759, -1027], [0, 566, 127, 64]], 'categories': [72, 65, 31, 15, 62, 62, 46, 46, 51]}\n",
      "050.jpg {'bboxs': [[0, 1138, 836, 747], [875, 786, 621, 534], [1142, 0, 358, 725]], 'categories': [56, 57, 50]}\n",
      "051.jpg {'bboxs': [[0, 640, 1280, 1340]], 'categories': [59]}\n",
      "052.jpg {'bboxs': [[148, 150, 89, 80], [39, 17, 139, 185]], 'categories': [61, 1]}\n",
      "053.jpg {'bboxs': [[153, 491, 1367, 1557], [0, 0, 1536, 2048]], 'categories': [88, 1]}\n",
      "054.jpg {'bboxs': [[16, 133, 845, 766], [973, 163, 842, 777]], 'categories': [59, 59]}\n",
      "055.jpg {'bboxs': [[0, 0, 1500, 2000], [967, 1027, 533, 973]], 'categories': [67, 84]}\n",
      "056.jpg {'bboxs': [[132, 316, 444, 706], [580, 148, 1022, 346], [685, 485, 983, 621]], 'categories': [74, 90, 87]}\n",
      "057.jpg {'bboxs': [[0, 61, 400, 864]], 'categories': [62]}\n",
      "058.jpg {'bboxs': [[0, 0, 456, 364], [312, 0, 575, 237], [301, 621, 668, 603], [910, 0, 247, 145]], 'categories': [31, 1, 47, 47]}\n",
      "059.jpg {'bboxs': [[1107, 0, 310, 346], [1340, 264, 160, 530], [0, 0, 1500, 2000]], 'categories': [47, 47, 67]}\n",
      "060.jpg {'bboxs': [[455, 6, 307, 1112], [99, 397, 893, 806], [10, 333, 147, 211], [902, 411, 63, 26], [73, 403, 71, 94], [34, 260, 43, 64], [419, 428, 108, 147], [838, 355, 49, 83], [887, 356, 31, 96], [888, 336, 46, 58], [928, 311, 31, 51], [958, 329, 30, 40], [973, 340, 34, 58], [963, 355, 69, 174], [939, 425, 55, 56]], 'categories': [1, 35, 1, 36, 36, 1, 1, 1, 1, 1, 1, 1, 1, 1, 35]}\n",
      "061.jpg {'bboxs': [], 'categories': []}\n",
      "062.jpg {'bboxs': [[0, 0, 1382, 2048]], 'categories': [1]}\n",
      "063.jpg {'bboxs': [[0, 420, 62, 80], [93, 390, 250, 100]], 'categories': [3, 3]}\n",
      "064.jpg {'bboxs': [[81, 324, 105, 410], [226, 356, 81, 346], [769, 324, 41, 183], [283, 356, 518, 324]], 'categories': [1, 1, 1, 3]}\n",
      "065.jpg {'bboxs': [[184, 218, 1556, 922]], 'categories': [73]}\n",
      "066.jpg {'bboxs': [[0, 518, 1080, 864]], 'categories': [73]}\n",
      "067.jpg {'bboxs': [[27, 204, 883, 1823]], 'categories': [1]}\n",
      "068.jpg {'bboxs': [[699, 1085, 221, 369], [27, 798, 828, 615]], 'categories': [84, 64]}\n",
      "069.jpg {'bboxs': [[450, 200, 120, 121], [120, 17, 260, 424], [600, 102, 130, 339], [570, 75, 320, 366]], 'categories': [61, 1, 1, 1]}\n",
      "070.jpg {'bboxs': [[72, 524, 468, 666], [432, 614, 50, 51], [324, 0, 388, 1062], [259, 499, 165, 230], [50, 473, 158, 205]], 'categories': [18, 86, 64, 62, 62]}\n",
      "071.jpg {'bboxs': [], 'categories': []}\n",
      "072.jpg {'bboxs': [[0, 1387, 2913, 3190]], 'categories': [1]}\n",
      "073.jpg {'bboxs': [[0, 0, 2027, 910]], 'categories': [67]}\n",
      "074.jpg {'bboxs': [], 'categories': []}\n",
      "075.jpg {'bboxs': [[1167, 553, 102, 203], [1351, 535, 123, 360], [1536, 599, 225, 324]], 'categories': [1, 1, 1]}\n",
      "076.jpg {'bboxs': [[389, 625, 307, 147], [839, 653, 287, 156], [1576, 561, 41, 147], [696, 570, 102, 239], [266, 579, 82, 175]], 'categories': [63, 63, 1, 64, 64]}\n",
      "077.jpg {'bboxs': [[121, 140, 70, 96]], 'categories': [1]}\n",
      "078.jpg {'bboxs': [[180, 448, 230, 153]], 'categories': [3]}\n",
      "079.jpg {'bboxs': [], 'categories': []}\n",
      "080.jpg {'bboxs': [[0, 204, 384, 1076], [633, 230, 327, 1050], [316, 281, 394, 999]], 'categories': [1, 1, 1]}\n",
      "081.jpg {'bboxs': [[273, 38, 233, 295], [501, 5, 177, 330], [592, 7, 195, 326], [507, 320, 106, 49], [578, 369, 76, 56], [256, 123, 258, 250], [-6, 331, 253, 52], [698, 394, 324, 67]], 'categories': [1, 1, 1, 77, 74, 73, 76, 76]}\n",
      "082.jpg {'bboxs': [[1830, 1343, 243, 173], [2039, 1334, 369, 160]], 'categories': [3, 3]}\n",
      "083.jpg {'bboxs': [[0, 615, 1231, 2152], [1768, 2394, 668, 389], [0, 2536, 1357, 815], [0, 3673, 1126, 357]], 'categories': [73, 74, 76, 84]}\n",
      "084.jpg {'bboxs': [[1105, 300, 1052, 1873], [1110, 668, 2052, 2094], [452, 1036, 947, 942], [0, 1826, 2336, 1200], [0, 1968, 357, 557]], 'categories': [1, 1, 62, 73, 73]}\n",
      "085.jpg {'bboxs': [[936, 1847, 357, 278], [1336, 1815, 436, 294], [2184, 1726, 210, 310], [2473, 1731, 331, 273]], 'categories': [3, 3, 3, 3]}\n",
      "086.jpg {'bboxs': [[269, 1608, 165, 330], [0, 1782, 265, 143], [404, 1621, 334, 313], [900, 1634, 426, 356], [1273, 1652, 456, 395], [3000, 1586, 330, 639], [3552, 1673, 382, 591], [95, 43, 1804, 1682]], 'categories': [2, 2, 2, 2, 2, 2, 2, 8]}\n",
      "087.jpg {'bboxs': [[1169, 1186, 2004, 730], [3313, 1656, 452, 178], [3082, 1639, 195, 134], [882, 1517, 334, 260], [0, 1456, 169, 217], [0, 1260, 3321, 1273], [3530, 1543, 502, 1482], [3595, 2026, 413, 560]], 'categories': [3, 3, 3, 3, 3, 3, 1, 31]}\n",
      "088.jpg {'bboxs': [[982, 805, 1982, 2905], [58, 2188, 347, 200], [482, 2029, 417, 152], [0, 1282, 252, 894], [1758, 1952, 1252, 1982]], 'categories': [1, 74, 75, 44, 62]}\n",
      "089.jpg {'bboxs': [[1258, 1805, 794, 488], [0, 1035, 2464, 2994], [2458, 1676, 541, 1741], [2200, 2252, 511, 588]], 'categories': [27, 65, 62, 62]}\n",
      "090.jpg {'bboxs': [[1082, 1823, 805, 817], [123, 2217, 370, 476], [0, 1935, 241, 429], [241, 1758, 411, 623], [782, 1699, 429, 629], [1211, 1723, 394, 582], [1670, 1429, 364, 217], [2482, 1423, 247, 252]], 'categories': [67, 62, 62, 62, 62, 62, 78, 81]}\n",
      "091.jpg {'bboxs': [[1941, 2335, 1058, 1305], [2129, 1370, 676, 1152]], 'categories': [62, 62]}\n",
      "092.jpg {'bboxs': [[0, 923, 2994, 1152], [0, 2100, 3005, 1929]], 'categories': [76, 76]}\n",
      "093.jpg {'bboxs': [[1423, 570, 1329, 1076], [2705, 388, 176, 141], [3405, 376, 170, 117]], 'categories': [3, 3, 3]}\n",
      "094.jpg {'bboxs': [[323, 30, 2615, 1392], [1253, 746, 2807, 3646], [0, 623, 1100, 1115], [0, 2946, 2169, 2769]], 'categories': [89, 89, 1, 1]}\n",
      "095.jpg {'bboxs': [[101, 620, 296, 339], [345, 475, 700, 484], [888, 507, 109, 169], [630, 224, 32, 49], [654, 213, 39, 60]], 'categories': [70, 81, 47, 90, 90]}\n",
      "096.jpg {'bboxs': [[601, 252, 141, 428], [486, 786, 275, 103], [739, 567, 218, 118], [788, 281, 481, 673]], 'categories': [44, 87, 84, 73]}\n",
      "097.jpg {'bboxs': [[0, 769, 2738, 2046]], 'categories': [17]}\n",
      "098.jpg {'bboxs': [], 'categories': []}\n",
      "099.jpg {'bboxs': [], 'categories': []}\n",
      "100.jpg {'bboxs': [[0, 265, 295, 400], [105, 110, 300, 380], [660, 4, 355, 520], [640, 285, 445, 439], [930, 100, 189, 324], [1270, 104, 375, 580], [1430, 14, 260, 400], [1705, 14, 265, 615], [1950, 20, 150, 304], [2150, 50, 130, 165], [2550, 14, 200, 215]], 'categories': [1, 1, 1, 1, 1, 1, 1, 1, 1, 1, 1]}\n"
     ]
    }
   ],
   "execution_count": 8
  },
  {
   "metadata": {
    "ExecuteTime": {
     "end_time": "2024-11-30T13:50:19.553647Z",
     "start_time": "2024-11-30T13:50:19.546657Z"
    }
   },
   "cell_type": "code",
   "source": [
    "import json\n",
    "\n",
    "\n",
    "\n",
    "# Save the dictionary as a JSON file\n",
    "with open('our_image_data.json', 'w') as file:\n",
    "    json.dump(image_labels, file)\n"
   ],
   "id": "11c6b9b65731a3ac",
   "outputs": [],
   "execution_count": 9
  },
  {
   "metadata": {
    "ExecuteTime": {
     "end_time": "2024-11-30T13:51:18.476332Z",
     "start_time": "2024-11-30T13:50:19.554653Z"
    }
   },
   "cell_type": "code",
   "source": [
    "import json\n",
    "import cv2\n",
    "\n",
    "with open('our_image_data.json', 'r') as infile:\n",
    "    \n",
    "    \n",
    "    data = json.load(infile)\n",
    "    \n",
    "\n",
    "for image_name, annotation in data.items():\n",
    "    if int(image_name[:3]) < 60:\n",
    "        continue\n",
    "    \n",
    "    font = cv2.FONT_HERSHEY_SIMPLEX\n",
    "    font_scale = 2\n",
    "    thickness = 3\n",
    "    color = (0, 0,255)\n",
    "    \n",
    "    image = cv2.imread(\"our_image\\\\\" + image_name)\n",
    "    max_width, max_height = 800, 600\n",
    "    \n",
    "\n",
    "    for bbox, cat_id in zip(annotation[\"bboxs\"], annotation[\"categories\"]):\n",
    "    \n",
    "        top_left = (int(bbox[0]), int(bbox[1]))\n",
    "    \n",
    "        box_width = int(bbox[2])\n",
    "        box_height = int(bbox[3])\n",
    "        \n",
    "        \n",
    "        bottom_right = (top_left[0] + box_width, top_left[1] + box_height)\n",
    "    \n",
    "        cv2.rectangle(image, top_left, bottom_right, color, 3)\n",
    "        \n",
    "        cv2.putText(image, f\"{cat_id}\", top_left, font, font_scale, color, thickness)\n",
    "\n",
    "        # Get current dimensions of the image\n",
    "    height, width = image.shape[:2]\n",
    "    \n",
    "    # Calculate the scaling factor to maintain aspect ratio\n",
    "    scaling_factor = min(max_width / width, max_height / height)\n",
    "    new_width = int(width * scaling_factor)\n",
    "    new_height = int(height * scaling_factor)\n",
    "    \n",
    "    # Resize the image while maintaining aspect ratio\n",
    "    resized_img = cv2.resize(image, (new_width, new_height))\n",
    "    cv2.imshow(f\"{image_name}\", resized_img)\n",
    "    \n",
    "    cv2.waitKey(0)\n",
    "    cv2.destroyAllWindows()"
   ],
   "id": "1371748f29863b81",
   "outputs": [
    {
     "ename": "KeyboardInterrupt",
     "evalue": "",
     "output_type": "error",
     "traceback": [
      "\u001B[1;31m---------------------------------------------------------------------------\u001B[0m",
      "\u001B[1;31mKeyboardInterrupt\u001B[0m                         Traceback (most recent call last)",
      "Cell \u001B[1;32mIn[10], line 49\u001B[0m\n\u001B[0;32m     46\u001B[0m resized_img \u001B[38;5;241m=\u001B[39m cv2\u001B[38;5;241m.\u001B[39mresize(image, (new_width, new_height))\n\u001B[0;32m     47\u001B[0m cv2\u001B[38;5;241m.\u001B[39mimshow(\u001B[38;5;124mf\u001B[39m\u001B[38;5;124m\"\u001B[39m\u001B[38;5;132;01m{\u001B[39;00mimage_name\u001B[38;5;132;01m}\u001B[39;00m\u001B[38;5;124m\"\u001B[39m, resized_img)\n\u001B[1;32m---> 49\u001B[0m cv2\u001B[38;5;241m.\u001B[39mwaitKey(\u001B[38;5;241m0\u001B[39m)\n\u001B[0;32m     50\u001B[0m cv2\u001B[38;5;241m.\u001B[39mdestroyAllWindows()\n",
      "\u001B[1;31mKeyboardInterrupt\u001B[0m: "
     ]
    }
   ],
   "execution_count": 10
  },
  {
   "metadata": {},
   "cell_type": "code",
   "outputs": [],
   "execution_count": null,
   "source": "",
   "id": "a33b5945ced527d"
  }
 ],
 "metadata": {
  "kernelspec": {
   "display_name": "Python 3",
   "language": "python",
   "name": "python3"
  },
  "language_info": {
   "codemirror_mode": {
    "name": "ipython",
    "version": 2
   },
   "file_extension": ".py",
   "mimetype": "text/x-python",
   "name": "python",
   "nbconvert_exporter": "python",
   "pygments_lexer": "ipython2",
   "version": "2.7.6"
  }
 },
 "nbformat": 4,
 "nbformat_minor": 5
}
